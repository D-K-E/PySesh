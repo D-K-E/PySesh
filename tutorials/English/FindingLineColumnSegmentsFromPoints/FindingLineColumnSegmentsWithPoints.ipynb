{
 "cells": [
  {
   "cell_type": "code",
   "execution_count": null,
   "metadata": {},
   "outputs": [],
   "source": [
    "import os  # path manipulation\n",
    "import numpy as np  # array/matrix manipulation\n",
    "import scipy.ndimage as nd  # operate easily on image matrices\n",
    "import matplotlib.pyplot as plt  # plotting library\n",
    "import cv2  # mostly here for image io\n",
    "import time # for simple benchmarking\n",
    "import pdb"
   ]
  },
  {
   "cell_type": "code",
   "execution_count": null,
   "metadata": {},
   "outputs": [],
   "source": [
    "# importing project code\n",
    "current_dir = os.getcwd()\n",
    "print(current_dir)"
   ]
  },
  {
   "cell_type": "code",
   "execution_count": null,
   "metadata": {},
   "outputs": [],
   "source": [
    "langdir = os.path.join(current_dir, os.pardir)\n",
    "tutodir = os.path.join(langdir, os.pardir)\n",
    "projectdir = os.path.join(tutodir, os.pardir)\n",
    "maindir = os.path.join(projectdir, 'pysesh')\n",
    "coredir = os.path.join(maindir, 'core')\n",
    "os.chdir(coredir)"
   ]
  },
  {
   "cell_type": "code",
   "execution_count": null,
   "metadata": {},
   "outputs": [],
   "source": [
    "from modules.imageop.segmenters import pointcarver as psc\n",
    "os.chdir(current_dir)"
   ]
  },
  {
   "cell_type": "code",
   "execution_count": null,
   "metadata": {},
   "outputs": [],
   "source": [
    "imdir = os.path.join(tutodir,'images')\n",
    "im1path = os.path.join(imdir, 'hieratik.png')\n",
    "im2path = os.path.join(imdir, 'hiyeroglif.png')\n",
    "im1, im2 = cv2.imread(im1path), cv2.imread(im2path)"
   ]
  },
  {
   "cell_type": "code",
   "execution_count": null,
   "metadata": {},
   "outputs": [],
   "source": [
    "fig_size = plt.rcParams[\"figure.figsize\"] \n",
    "# Set figure width to 12 and height to 9\n",
    "fig_size[0] = 21\n",
    "fig_size[1] = 18\n",
    "plt.rcParams[\"figure.figsize\"] = fig_size\n"
   ]
  },
  {
   "cell_type": "code",
   "execution_count": null,
   "metadata": {},
   "outputs": [],
   "source": [
    "fig, (ax1, ax2) = plt.subplots(1, 2, figsize=(12, 7.5))\n",
    "ax1.set_title(\"hieratik text\")\n",
    "ax1.imshow(im1)\n",
    "\n",
    "ax2.set_title('hiero text')\n",
    "ax2.imshow(im2)\n",
    "\n",
    "plt.show()"
   ]
  },
  {
   "cell_type": "code",
   "execution_count": null,
   "metadata": {},
   "outputs": [],
   "source": [
    "im1points = [(30,30),(120,30), (195,30), (280,30), (380,30), (450,30)]\n",
    "#im1points = [(p[1], p[0]) for p in im1points]"
   ]
  },
  {
   "cell_type": "code",
   "execution_count": null,
   "metadata": {},
   "outputs": [],
   "source": [
    "# mark the points\n",
    "im1cp = im1.copy()\n",
    "for p in im1points:\n",
    "    cent = p[1], p[0]\n",
    "    im1cp = cv2.circle(im1cp, cent, 5, (0,255,0))"
   ]
  },
  {
   "cell_type": "code",
   "execution_count": null,
   "metadata": {},
   "outputs": [],
   "source": [
    "plt.imshow(im1cp)"
   ]
  },
  {
   "cell_type": "code",
   "execution_count": null,
   "metadata": {},
   "outputs": [],
   "source": [
    "im1cp = im1.copy()\n",
    "marker = psc.SeamMarker(img=im1cp, \n",
    "                        plist=im1points, \n",
    "                        direction='right',\n",
    "                        thresh=10\n",
    "                       )\n",
    "im1Marked = marker.segmentWithPoints()"
   ]
  },
  {
   "cell_type": "code",
   "execution_count": null,
   "metadata": {},
   "outputs": [],
   "source": [
    "m1, m2, m3, m4, m5 = im1Marked"
   ]
  },
  {
   "cell_type": "code",
   "execution_count": null,
   "metadata": {},
   "outputs": [],
   "source": [
    "fig, (ax1, ax2, ax3, ax4, ax5) = plt.subplots(5, 1, figsize=(12, 7.5))\n",
    "\n",
    "ax1.set_title('line 1')\n",
    "ax1.imshow(m1[0])\n",
    "\n",
    "ax2.set_title('line 2')\n",
    "ax2.imshow(m2[0])\n",
    "\n",
    "ax3.set_title('line 3')\n",
    "ax3.imshow(m3[0])\n",
    "\n",
    "ax4.set_title('line 4')\n",
    "ax4.imshow(m4[0])\n",
    "\n",
    "ax5.set_title('line 5')\n",
    "ax5.imshow(m5[0])"
   ]
  }
 ],
 "metadata": {
  "kernelspec": {
   "display_name": "Python 3",
   "language": "python",
   "name": "python3"
  },
  "language_info": {
   "codemirror_mode": {
    "name": "ipython",
    "version": 3
   },
   "file_extension": ".py",
   "mimetype": "text/x-python",
   "name": "python",
   "nbconvert_exporter": "python",
   "pygments_lexer": "ipython3",
   "version": "3.6.4"
  }
 },
 "nbformat": 4,
 "nbformat_minor": 2
}
